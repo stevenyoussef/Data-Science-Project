{
 "cells": [
  {
   "cell_type": "markdown",
   "metadata": {},
   "source": [
    "# COGS 108 - Final Project Proposal"
   ]
  },
  {
   "cell_type": "markdown",
   "metadata": {},
   "source": [
    "# Names\n",
    "\n",
    "- Connor Moore\n",
    "- Steven Youssef\n",
    "- Edgar Diaz\n",
    "- Sung Cho\n",
    "- Scott Andrews"
   ]
  },
  {
   "cell_type": "markdown",
   "metadata": {},
   "source": [
    "# Research Question"
   ]
  },
  {
   "cell_type": "markdown",
   "metadata": {},
   "source": [
    "*How has the negativivty and divisiveness of news articles affected the trend of hate crimes in America from 2010-2020?*"
   ]
  },
  {
   "cell_type": "markdown",
   "metadata": {},
   "source": [
    "## Background and Prior Work"
   ]
  },
  {
   "cell_type": "markdown",
   "metadata": {},
   "source": [
    "\n",
    "This sample article shows us how titles can be misleading, where it states that students being physically at school is how 70 cases of coronavirus arised but the article itself claims that they most likely obatined the virus before they returned to class[^clickbait].\n",
    "\n",
    "The second article about the recent issue during the Oscars emphasizes the word \"Ugliest\" and this may have subtle psychological effects on people, or the fact that the news focuses at all on celebrity drama over real issues will upset many individuals.[^willsmith]. \n",
    "\n",
    "In our third and final example article, we have one who's title alone has many negative and haunting words. These words could stir the very people they mean to demean, or strike fear into those who hate those groups.[^wp].\n",
    "\n",
    "[^willsmith]: Veloso, Lea. “Will & Jada Might Be Getting a Divorce after the Oscars Slap—& It Could Be One of the “Ugliest” in Hollywood.” StyleCaster, 21 Apr. 2022, stylecaster.com/will-smith-jada-pinkett-smith-divorce-rumors/. Accessed 22 Apr. 2022. \n",
    "[^clickbait]: “France Sees 70 Coronavirus Cases Linked to Schools Days after Reopening.” The Independent, 18 May 2020, www.independent.co.uk/news/world/europe/coronavirus-france-school-cases-reopen-lockdown-a9520386.html. Accessed 22 Apr. 2022.\n",
    "[^wp]: CNN, Geneva Sands. “White Supremacy Is “Most Lethal Threat” to the US, DHS Draft Assessment Says.” CNN, www.cnn.com/2020/09/08/politics/white-supremacy-dhs-draft-assessment/index.html. \n"
   ]
  },
  {
   "cell_type": "markdown",
   "metadata": {},
   "source": [
    "# Hypothesis\n"
   ]
  },
  {
   "cell_type": "markdown",
   "metadata": {},
   "source": [
    "*We think that the changes to news articles recently with the increase of yellow journalism have increased the quantity and frequency of Hate Crimes in America throughout the 2010s.*"
   ]
  },
  {
   "cell_type": "markdown",
   "metadata": {},
   "source": [
    "# Data"
   ]
  },
  {
   "cell_type": "markdown",
   "metadata": {},
   "source": [
    "*We will use data from two databases, one being the FBI Hate Crime Statistics and the other being webz.io's Enriched News API*"
   ]
  },
  {
   "cell_type": "markdown",
   "metadata": {},
   "source": [
    "# Ethics & Privacy"
   ]
  },
  {
   "cell_type": "markdown",
   "metadata": {},
   "source": [
    "*One issue could be articles that have a paywall that the API might be able to bypass and let us use as data, since then someone could read that article or at least part of its contents for free. Another and a more important issue will be how people react to seeing the statsitcs of the many aggressive articles or the amount of articles that exaggerate issues. People could start to hold negative views towards all of the news sources we gathered the articles from, or start to agree with said hate crims or extremism. *"
   ]
  },
  {
   "cell_type": "markdown",
   "metadata": {},
   "source": [
    "# Team Expectations "
   ]
  },
  {
   "cell_type": "markdown",
   "metadata": {},
   "source": [
    "* *All members should contribute an equal amount of work to the project.*\n",
    "* *All members should attend meetings to get portions of the project completed each week.*\n",
    "* *Ask for help from either other group members or the TAs if anyone is stuck on some task they were assigned to do.*\n"
   ]
  },
  {
   "cell_type": "markdown",
   "metadata": {},
   "source": [
    "# Project Timeline Proposal"
   ]
  },
  {
   "cell_type": "markdown",
   "metadata": {},
   "source": [
    "| Meeting Date  | Meeting Time| Completed Before Meeting  | Discuss at Meeting |\n",
    "|---|---|---|---|\n",
    "| 4/21  |  6 PM | Understand the chosen Research Question and how we will obtain our data  | Determine a weekly meeting time and date. Complete the project proposal and start searching for datasets of articles | \n",
    "| 4/28  |  6 PM | Search for datasets | Discuss  datasets and agree on a few out of the ones gathered | \n",
    "| 5/5 | 6 PM  | Have an idea for how to wrangle data.  | Wrangle the data we chose to work with, make it clean.   |\n",
    "| 5/12  | 6 PM  | Think about how to further wrangle data if necessary, and start to think about ways to analyze our data. | Wrangle the data more if necessary, and start analysis.  |\n",
    "| 5/19  | 6 PM  | Compare many ways to analyze and pick what best suits our Research Question | Implement the agreed upon analysis methods |\n",
    "| 5/26  | 6 PM  | Complete analysis; Draft results/conclusion/discussion | Discuss/edit full project |\n",
    "| 6/2  | Before 11:59 PM  | NA | Turn in Final Project & Group Project Surveys |"
   ]
  }
 ],
 "metadata": {
  "kernelspec": {
   "display_name": "Python 3",
   "language": "python",
   "name": "python3"
  },
  "language_info": {
   "codemirror_mode": {
    "name": "ipython",
    "version": 3
   },
   "file_extension": ".py",
   "mimetype": "text/x-python",
   "name": "python",
   "nbconvert_exporter": "python",
   "pygments_lexer": "ipython3",
   "version": "3.7.9"
  }
 },
 "nbformat": 4,
 "nbformat_minor": 2
}
