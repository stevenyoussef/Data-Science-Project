{
 "cells": [
  {
   "cell_type": "markdown",
   "metadata": {},
   "source": [
    "# COGS 108 - Data Checkpoint"
   ]
  },
  {
   "cell_type": "markdown",
   "metadata": {},
   "source": [
    "# Names\n",
    "\n",
    "- Scott Andrews\n",
    "- Steven Youssef\n",
    "- Connor Moore\n",
    "- Sung Cho\n",
    "- Edgar Diaz"
   ]
  },
  {
   "cell_type": "markdown",
   "metadata": {},
   "source": [
    "<a id='research_question'></a>\n",
    "# Research Question"
   ]
  },
  {
   "cell_type": "markdown",
   "metadata": {},
   "source": [
    "*How has the negativity and divisiveness of news articles affected the trend of hate crimes in America from 2010-2020?*"
   ]
  },
  {
   "cell_type": "markdown",
   "metadata": {},
   "source": [
    "# Dataset(s)"
   ]
  },
  {
   "cell_type": "markdown",
   "metadata": {},
   "source": [
    "- Dataset Name: Hate Crime Statistics(FBI) \n",
    "- Link to the dataset: https://crime-data-explorer.fr.cloud.gov/pages/explorer/crime/hate-crime \n",
    "- Number of observations: 36 in each Bias csv and 4 in each Incident Count csv\n",
    "\n",
    "1) The FBI dataset contains the data on hate crimes from 1991-2020, but we will only use the data from 2010-2020. It contains how many per quarter and what type of hate crime they were.\n",
    "2) The articles will be grabbed from a new API and we will send them through the Vader Sentiment Algo to be turned into a dataset that gives us the ratio of positive vs neutral vs negative types of words within a set of words.  \n",
    "\n",
    "\n",
    "-We plan to create a dataset by using many articles processed through the Vader Sentiment NLP Algorithm\n",
    "-https://github.com/cjhutto/vaderSentiment\n",
    "-We will combine the datasets by using pd.combine and re-ordering and re-indexing the df to make it fit to be graphed by seaborn."
   ]
  },
  {
   "cell_type": "markdown",
   "metadata": {},
   "source": [
    "# Setup"
   ]
  },
  {
   "cell_type": "code",
   "execution_count": 36,
   "metadata": {},
   "outputs": [],
   "source": [
    "## YOUR CODE HERE\n",
    "import numpy as np\n",
    "import pandas as pd\n",
    "import matplotlib.pyplot as plt\n",
    "import math\n",
    "import seaborn as sns\n",
    "\n",
    "\n",
    "# May add more data later\n",
    "Bias_2010 = pd.read_csv('HC_Bias_2010.csv')\n",
    "Bias_2011 = pd.read_csv('HC_Bias_2011.csv')\n",
    "Bias_2012 = pd.read_csv('HC_Bias_2012.csv')\n",
    "Bias_2013 = pd.read_csv('HC_Bias_2013.csv')\n",
    "Bias_2014 = pd.read_csv('HC_Bias_2014.csv')\n",
    "Bias_2015 = pd.read_csv('HC_Bias_2015.csv')\n",
    "Bias_2016 = pd.read_csv('HC_Bias_2016.csv')\n",
    "Bias_2017 = pd.read_csv('HC_Bias_2017.csv')\n",
    "Bias_2018 = pd.read_csv('HC_Bias_2018.csv')\n",
    "Bias_2019 = pd.read_csv('HC_Bias_2019.csv')\n",
    "Bias_2020 = pd.read_csv('HC_Bias_2020.csv')\n",
    "IC_2010 = pd.read_csv('Incident-Count-by-Quarter_2010.csv')\n",
    "IC_2011 = pd.read_csv('Incident-Count-by-Quarter_2011.csv')\n",
    "IC_2012 = pd.read_csv('Incident-Count-by-Quarter_2012.csv')\n",
    "IC_2013 = pd.read_csv('Incident-Count-by-Quarter_2013.csv')\n",
    "IC_2014 = pd.read_csv('Incident-Count-by-Quarter_2014.csv')\n",
    "IC_2015 = pd.read_csv('Incident-Count-by-Quarter_2015.csv')\n",
    "IC_2016 = pd.read_csv('Incident-Count-by-Quarter_2016.csv')\n",
    "IC_2017 = pd.read_csv('Incident-Count-by-Quarter_2017.csv')\n",
    "IC_2018 = pd.read_csv('Incident-Count-by-Quarter_2018.csv')\n",
    "IC_2019 = pd.read_csv('Incident-Count-by-Quarter_2019.csv')\n",
    "IC_2020 = pd.read_csv('Incident-Count-by-Quarter_2020.csv')\n",
    "\n"
   ]
  },
  {
   "cell_type": "markdown",
   "metadata": {},
   "source": [
    "# Data Cleaning"
   ]
  },
  {
   "cell_type": "markdown",
   "metadata": {},
   "source": [
    "Describe your data cleaning steps here."
   ]
  },
  {
   "cell_type": "code",
   "execution_count": 35,
   "metadata": {},
   "outputs": [
    {
     "data": {
      "text/html": [
       "<div>\n",
       "<style scoped>\n",
       "    .dataframe tbody tr th:only-of-type {\n",
       "        vertical-align: middle;\n",
       "    }\n",
       "\n",
       "    .dataframe tbody tr th {\n",
       "        vertical-align: top;\n",
       "    }\n",
       "\n",
       "    .dataframe thead th {\n",
       "        text-align: right;\n",
       "    }\n",
       "</style>\n",
       "<table border=\"1\" class=\"dataframe\">\n",
       "  <thead>\n",
       "    <tr style=\"text-align: right;\">\n",
       "      <th></th>\n",
       "      <th>hc type</th>\n",
       "      <th>count</th>\n",
       "    </tr>\n",
       "  </thead>\n",
       "  <tbody>\n",
       "    <tr>\n",
       "      <th>0</th>\n",
       "      <td>Anti-Black or African American</td>\n",
       "      <td>2202</td>\n",
       "    </tr>\n",
       "    <tr>\n",
       "      <th>1</th>\n",
       "      <td>Anti-Jewish</td>\n",
       "      <td>887</td>\n",
       "    </tr>\n",
       "    <tr>\n",
       "      <th>2</th>\n",
       "      <td>Anti-Gay (Male)</td>\n",
       "      <td>740</td>\n",
       "    </tr>\n",
       "    <tr>\n",
       "      <th>3</th>\n",
       "      <td>Anti-White</td>\n",
       "      <td>576</td>\n",
       "    </tr>\n",
       "    <tr>\n",
       "      <th>4</th>\n",
       "      <td>Anti-Hispanic or Latino</td>\n",
       "      <td>534</td>\n",
       "    </tr>\n",
       "  </tbody>\n",
       "</table>\n",
       "</div>"
      ],
      "text/plain": [
       "                          hc type  count\n",
       "0  Anti-Black or African American   2202\n",
       "1                     Anti-Jewish    887\n",
       "2                 Anti-Gay (Male)    740\n",
       "3                      Anti-White    576\n",
       "4         Anti-Hispanic or Latino    534"
      ]
     },
     "execution_count": 35,
     "metadata": {},
     "output_type": "execute_result"
    }
   ],
   "source": [
    "## YOUR CODE HERE\n",
    "## FEEL FREE TO ADD MULTIPLE CELLS PER SECTION\n",
    "\n",
    "# Change Columns from \"key\" and \"value\" to \"HC Type\" and \"Count\"\n",
    "Bias_2010.columns = [\"hc type\",\"count\"]\n",
    "Bias_2011.columns = [\"hc type\",\"count\"]\n",
    "Bias_2012.columns = [\"hc type\",\"count\"]\n",
    "Bias_2013.columns = [\"hc type\",\"count\"]\n",
    "Bias_2014.columns = [\"hc type\",\"count\"]\n",
    "Bias_2015.columns = [\"hc type\",\"count\"]\n",
    "Bias_2016.columns = [\"hc type\",\"count\"]\n",
    "Bias_2017.columns = [\"hc type\",\"count\"]\n",
    "Bias_2018.columns = [\"hc type\",\"count\"]\n",
    "Bias_2019.columns = [\"hc type\",\"count\"]\n",
    "Bias_2020.columns = [\"hc type\",\"count\"]\n",
    "IC_2010.columns = [\"quarter\",\"count\"]\n",
    "IC_2011.columns = [\"quarter\",\"count\"]\n",
    "IC_2012.columns = [\"quarter\",\"count\"]\n",
    "IC_2013.columns = [\"quarter\",\"count\"]\n",
    "IC_2014.columns = [\"quarter\",\"count\"]\n",
    "IC_2015.columns = [\"quarter\",\"count\"]\n",
    "IC_2016.columns = [\"quarter\",\"count\"]\n",
    "IC_2017.columns = [\"quarter\",\"count\"]\n",
    "IC_2018.columns = [\"quarter\",\"count\"]\n",
    "IC_2019.columns = [\"quarter\",\"count\"]\n",
    "IC_2020.columns = [\"quarter\",\"count\"] \n",
    "\n",
    "#Function for resetting index for IC data \n",
    "# Files were sorted by highest count originally, adjusted to be sorted by quarter #.\n",
    "def sort_ic_index(df_input):\n",
    "    df_input = df_input.sort_values(\"quarter\")\n",
    "    df_input = df_input.reset_index(drop=True)\n",
    "    return df_input\n",
    "\n",
    "IC_2010 = sort_ic_index(IC_2010)\n",
    "IC_2011 = sort_ic_index(IC_2011)\n",
    "IC_2012 = sort_ic_index(IC_2012)\n",
    "IC_2013 = sort_ic_index(IC_2013)\n",
    "IC_2014 = sort_ic_index(IC_2014)\n",
    "IC_2015 = sort_ic_index(IC_2015)\n",
    "IC_2016 = sort_ic_index(IC_2016)\n",
    "IC_2017 = sort_ic_index(IC_2017)\n",
    "IC_2018 = sort_ic_index(IC_2018)\n",
    "IC_2019 = sort_ic_index(IC_2019)\n",
    "IC_2020 = sort_ic_index(IC_2020)\n",
    "\n",
    "\n",
    "Bias_2010.head()"
   ]
  }
 ],
 "metadata": {
  "kernelspec": {
   "display_name": "Python 3",
   "language": "python",
   "name": "python3"
  },
  "language_info": {
   "codemirror_mode": {
    "name": "ipython",
    "version": 3
   },
   "file_extension": ".py",
   "mimetype": "text/x-python",
   "name": "python",
   "nbconvert_exporter": "python",
   "pygments_lexer": "ipython3",
   "version": "3.9.12"
  }
 },
 "nbformat": 4,
 "nbformat_minor": 2
}
