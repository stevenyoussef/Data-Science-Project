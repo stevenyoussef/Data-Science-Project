{
 "cells": [
  {
   "cell_type": "markdown",
   "metadata": {},
   "source": [
    "# Negativity in the News and Hate Crimes"
   ]
  },
  {
   "cell_type": "markdown",
   "metadata": {},
   "source": [
    "https://youtu.be/Kpt76rqvRwo"
   ]
  },
  {
   "cell_type": "markdown",
   "metadata": {},
   "source": [
    "## Permissions\n",
    "\n",
    "Place an `X` in the appropriate bracket below to specify if you would like your group's project to be made available to the public. (Note that student names will be included (but PIDs will be scraped from any groups who include their PIDs).\n",
    "\n",
    "* [ X ] YES - make available\n",
    "* [  ] NO - keep private"
   ]
  },
  {
   "cell_type": "markdown",
   "metadata": {},
   "source": [
    "# Overview"
   ]
  },
  {
   "cell_type": "markdown",
   "metadata": {},
   "source": [
    "In this project we take a look at the FBI statistics on Hate Crime from 2010 to 2020 and the results of Sentimet Analysis done on articles released from that same time period to determine if they are in any way related."
   ]
  },
  {
   "cell_type": "markdown",
   "metadata": {},
   "source": [
    "# Names\n",
    "\n",
    "- Scott Andrews\n",
    "- Steven Youssef\n",
    "- Connor Moore\n",
    "- Sung Cho\n",
    "- Edgar Diaz"
   ]
  },
  {
   "cell_type": "markdown",
   "metadata": {},
   "source": [
    "<a id='research_question'></a>\n",
    "# Research Question"
   ]
  },
  {
   "cell_type": "markdown",
   "metadata": {},
   "source": [
    "*How has the negativity and divisiveness of news articles affected the trend of hate crimes in America from 2010-2020?*"
   ]
  },
  {
   "cell_type": "markdown",
   "metadata": {},
   "source": [
    "<a id='background'></a>\n",
    "\n",
    "## Background & Prior Work"
   ]
  },
  {
   "cell_type": "markdown",
   "metadata": {},
   "source": [
    "We first started this project by looking for small examples of how the negative topics or words are very common in articles released nowadays. This sample article shows us how titles can be misleading, where it states that students being physically at school is how 70 cases of coronavirus arised but the article itself claims that they most likely obatined the virus before they returned to class[^clickbait].\n",
    "\n",
    "The second article about the recent issue during the Oscars emphasizes the word \"Ugliest\" and this may have subtle psychological effects on people, or the fact that the news focuses at all on celebrity drama over real issues will upset many individuals.[^willsmith]. \n",
    "\n",
    "In our third and final example article, we have one who's title alone has many negative and haunting words. These words could stir the very people they mean to demean, or strike fear into those who hate those groups.[^wp].\n",
    "\n",
    "References (include links):\n",
    "- 1) [^willsmith]: Veloso, Lea. “Will & Jada Might Be Getting a Divorce after the Oscars Slap—& It Could Be One of the “Ugliest” in Hollywood.” StyleCaster, 21 Apr. 2022, stylecaster.com/will-smith-jada-pinkett-smith-divorce-rumors/. Accessed 22 Apr. 2022. \n",
    "\n",
    "Link: stylecaster.com/will-smith-jada-pinkett-smith-divorce-rumors/\n",
    "\n",
    "- 2) [^clickbait]: “France Sees 70 Coronavirus Cases Linked to Schools Days after Reopening.” The Independent, 18 May 2020, www.independent.co.uk/news/world/europe/coronavirus-france-school-cases-reopen-lockdown-a9520386.html. Accessed 22 Apr. 2022.\n",
    "\n",
    "Link: www.independent.co.uk/news/world/europe/coronavirus-france-school-cases-reopen-lockdown-a9520386.html\n",
    "\n",
    "- 3) [^wp]: CNN, Geneva Sands. “White Supremacy Is “Most Lethal Threat” to the US, DHS Draft Assessment Says.” CNN, www.cnn.com/2020/09/08/politics/white-supremacy-dhs-draft-assessment/index.html. \n",
    "\n",
    "Link: www.cnn.com/2020/09/08/politics/white-supremacy-dhs-draft-assessment/index.html. \n"
   ]
  },
  {
   "cell_type": "markdown",
   "metadata": {},
   "source": [
    "# Hypothesis\n"
   ]
  },
  {
   "cell_type": "markdown",
   "metadata": {},
   "source": [
    "*We think that the changes to how news articles are written in these past few decades (with the increase of yellow journalism) have increased the quantity and frequency of Hate Crimes in America throughout the 2010s.*"
   ]
  },
  {
   "cell_type": "markdown",
   "metadata": {},
   "source": [
    "# Dataset(s)"
   ]
  },
  {
   "cell_type": "markdown",
   "metadata": {},
   "source": [
    "Dataset #1\n",
    "- Dataset Name: FBI Hate Crime Statistics 2010-2020\n",
    "- Link to the dataset: https://crime-data-explorer.fr.cloud.gov/pages/explorer/crime/hate-crime\n",
    "- Number of observations: 73,275\n",
    "\n",
    "\n",
    "This dataset includes the FBI's crime statistics from the years 2010 to 2020. The set includes what type of Hate Crime it was, how many per type, and how many Hate Crimes per quarter of each year.\n",
    "\n",
    "Dataset #2\n",
    "- Dataset Name: Mediastack Articles\n",
    "- Link to the dataset: https://mediastack.com/\n",
    "- Number of observations: 1,000\n",
    "\n",
    "This dataset includes articles from a specified country, time period, and company. Within the set we are given titles, descriptions of each articles,authors, category, and date of publish."
   ]
  },
  {
   "cell_type": "markdown",
   "metadata": {},
   "source": [
    "# Setup"
   ]
  },
  {
   "cell_type": "code",
   "execution_count": 1,
   "metadata": {},
   "outputs": [],
   "source": [
    "import numpy as np\n",
    "import pandas as pd\n",
    "import matplotlib.pyplot as plt\n",
    "import math\n",
    "import seaborn as sns\n",
    "import requests\n",
    "import patsy\n",
    "import scipy.stats as stats\n",
    "from vaderSentiment.vaderSentiment import SentimentIntensityAnalyzer\n",
    "import warnings\n",
    "warnings.simplefilter(action='ignore', category=FutureWarning)\n",
    "\n",
    "# Endpoint news\n",
    "\n",
    "media2010 = requests.get(\"http://api.mediastack.com/v1/news?access_key=f6684f42de28683def3a160551dfad22&languages=en&categories=general&limit=100&sources=nytimes\")\n",
    "media2011 = requests.get(\"http://api.mediastack.com/v1/news?access_key=f6684f42de28683def3a160551dfad22&languages=en&categories=general&limit=100&sources=bbc\")\n",
    "media2012 = requests.get(\"http://api.mediastack.com/v1/news?access_key=f6684f42de28683def3a160551dfad22&languages=en&categories=general&limit=100&sources=cnn\")\n",
    "media2013 = requests.get(\"http://api.mediastack.com/v1/news?access_key=f6684f42de28683def3a160551dfad22&languages=en&categories=general&limit=100&sources=time\")\n",
    "media2014 = requests.get(\"http://api.mediastack.com/v1/news?access_key=f6684f42de28683def3a160551dfad22&languages=en&categories=general&limit=100&sources=foxnews\")\n",
    "media2015 = requests.get(\"http://api.mediastack.com/v1/news?access_key=f6684f42de28683def3a160551dfad22&languages=en&categories=general&limit=100\")\n",
    "media2016 = requests.get(\"http://api.mediastack.com/v1/news?access_key=f6684f42de28683def3a160551dfad22&languages=en&categories=general&limit=100\")\n",
    "media2017 = requests.get(\"http://api.mediastack.com/v1/news?access_key=f6684f42de28683def3a160551dfad22&languages=en&categories=general&limit=100\")\n",
    "media2018 = requests.get(\"http://api.mediastack.com/v1/news?access_key=f6684f42de28683def3a160551dfad22&languages=en&categories=general&limit=100\")\n",
    "media2019 = requests.get(\"http://api.mediastack.com/v1/news?access_key=f6684f42de28683def3a160551dfad22&languages=en&categories=general&limit=100\")\n",
    "media2020 = requests.get(\"http://api.mediastack.com/v1/news?access_key=f6684f42de28683def3a160551dfad22&languages=en&categories=general&limit=100\")\n",
    "\n",
    "\n",
    "\n",
    "# Endpoint sources\n",
    "'''\n",
    "media2010 = requests.get(\"http://api.mediastack.com/v1/sources?access_key=f6684f42de28683def3a160551dfad22&search=story&languages=en&categories=general&limit=100\")\n",
    "media2011 = requests.get(\"http://api.mediastack.com/v1/sources?access_key=f6684f42de28683def3a160551dfad22&languages=en&categories=general&limit=100&search=program\")\n",
    "media2012 = requests.get(\"http://api.mediastack.com/v1/sources?access_key=f6684f42de28683def3a160551dfad22&languages=en&categories=general&limit=100&search=journal\")\n",
    "media2013 = requests.get(\"http://api.mediastack.com/v1/sources?access_key=f6684f42de28683def3a160551dfad22&languages=en&categories=general&limit=100&search=article\")\n",
    "media2014 = requests.get(\"http://api.mediastack.com/v1/sources?access_key=f6684f42de28683def3a160551dfad22&languages=en&categories=general&limit=100&search=version\")\n",
    "media2015 = requests.get(\"http://api.mediastack.com/v1/sources?access_key=f6684f42de28683def3a160551dfad22&languages=en&categories=general&limit=100&search=narrative\")\n",
    "media2016 = requests.get(\"http://api.mediastack.com/v1/sources?access_key=f6684f42de28683def3a160551dfad22&languages=en&categories=general&limit=100&search=sentiment\")\n",
    "media2017 = requests.get(\"http://api.mediastack.com/v1/sources?access_key=f6684f42de28683def3a160551dfad22&languages=en&categories=general&limit=100&search=record\")\n",
    "media2018 = requests.get(\"http://api.mediastack.com/v1/sources?access_key=f6684f42de28683def3a160551dfad22&languages=en&categories=general&limit=100&search=crime\")\n",
    "media2019 = requests.get(\"http://api.mediastack.com/v1/sources?access_key=f6684f42de28683def3a160551dfad22&languages=en&categories=general&limit=100&search=school\")\n",
    "media2020 = requests.get(\"http://api.mediastack.com/v1/sources?access_key=f6684f42de28683def3a160551dfad22&languages=en&categories=general&limit=100&search=law\")\n",
    "'''\n",
    "\n",
    "responses2010 = media2010.json()\n",
    "responses2011 = media2011.json()\n",
    "responses2012 = media2012.json()\n",
    "responses2013 = media2013.json()\n",
    "responses2014 = media2014.json()\n",
    "responses2015 = media2015.json()\n",
    "responses2016 = media2016.json()\n",
    "responses2017 = media2017.json()\n",
    "responses2018 = media2018.json()\n",
    "responses2019 = media2019.json()\n",
    "responses2020 = media2020.json()\n",
    "\n",
    "# Define the collected API responses\n",
    "mediastack2010 = responses2010['data']\n",
    "mediastack2011 = responses2011['data']\n",
    "mediastack2012 = responses2012['data']\n",
    "mediastack2013 = responses2013['data']\n",
    "mediastack2014 = responses2014['data']\n",
    "mediastack2015 = responses2015['data']\n",
    "mediastack2016 = responses2016['data']\n",
    "mediastack2017 = responses2017['data']\n",
    "mediastack2018 = responses2018['data']\n",
    "mediastack2019 = responses2019['data']\n",
    "mediastack2020 = responses2020['data']\n",
    " \n",
    "# Normalize or unnest the JSON response\n",
    "flatData2010 = pd.json_normalize(mediastack2010)\n",
    "flatData2011 = pd.json_normalize(mediastack2011)\n",
    "flatData2012 = pd.json_normalize(mediastack2012)\n",
    "flatData2013 = pd.json_normalize(mediastack2013)\n",
    "flatData2014 = pd.json_normalize(mediastack2014)\n",
    "flatData2015 = pd.json_normalize(mediastack2015)\n",
    "flatData2016 = pd.json_normalize(mediastack2016)\n",
    "flatData2017 = pd.json_normalize(mediastack2017)\n",
    "flatData2018 = pd.json_normalize(mediastack2018)\n",
    "flatData2019 = pd.json_normalize(mediastack2019)\n",
    "flatData2020 = pd.json_normalize(mediastack2020)\n",
    " \n",
    "# Create data frame, and save them to CSV\n",
    "dfs2010 = pd.DataFrame(flatData2010)\n",
    "dfs2011 = pd.DataFrame(flatData2011)\n",
    "dfs2012 = pd.DataFrame(flatData2012)\n",
    "dfs2013 = pd.DataFrame(flatData2013)\n",
    "dfs2014 = pd.DataFrame(flatData2014)\n",
    "dfs2015 = pd.DataFrame(flatData2015)\n",
    "dfs2016 = pd.DataFrame(flatData2016)\n",
    "dfs2017 = pd.DataFrame(flatData2017)\n",
    "dfs2018 = pd.DataFrame(flatData2018)\n",
    "dfs2019 = pd.DataFrame(flatData2019)\n",
    "dfs2020 = pd.DataFrame(flatData2020)\n",
    "\n",
    "Bias_2010 = pd.read_csv('HC_Bias_2010.csv')\n",
    "Bias_2011 = pd.read_csv('HC_Bias_2011.csv')\n",
    "Bias_2012 = pd.read_csv('HC_Bias_2012.csv')\n",
    "Bias_2013 = pd.read_csv('HC_Bias_2013.csv')\n",
    "Bias_2014 = pd.read_csv('HC_Bias_2014.csv')\n",
    "Bias_2015 = pd.read_csv('HC_Bias_2015.csv')\n",
    "Bias_2016 = pd.read_csv('HC_Bias_2016.csv')\n",
    "Bias_2017 = pd.read_csv('HC_Bias_2017.csv')\n",
    "Bias_2018 = pd.read_csv('HC_Bias_2018.csv')\n",
    "Bias_2019 = pd.read_csv('HC_Bias_2019.csv')\n",
    "Bias_2020 = pd.read_csv('HC_Bias_2020.csv')\n",
    "IC_2010 = pd.read_csv('Incident-Count-by-Quarter_2010.csv')\n",
    "IC_2011 = pd.read_csv('Incident-Count-by-Quarter_2011.csv')\n",
    "IC_2012 = pd.read_csv('Incident-Count-by-Quarter_2012.csv')\n",
    "IC_2013 = pd.read_csv('Incident-Count-by-Quarter_2013.csv')\n",
    "IC_2014 = pd.read_csv('Incident-Count-by-Quarter_2014.csv')\n",
    "IC_2015 = pd.read_csv('Incident-Count-by-Quarter_2015.csv')\n",
    "IC_2016 = pd.read_csv('Incident-Count-by-Quarter_2016.csv')\n",
    "IC_2017 = pd.read_csv('Incident-Count-by-Quarter_2017.csv')\n",
    "IC_2018 = pd.read_csv('Incident-Count-by-Quarter_2018.csv')\n",
    "IC_2019 = pd.read_csv('Incident-Count-by-Quarter_2019.csv')\n",
    "IC_2020 = pd.read_csv('Incident-Count-by-Quarter_2020.csv')\n"
   ]
  },
  {
   "cell_type": "markdown",
   "metadata": {},
   "source": [
    "# Data Cleaning"
   ]
  },
  {
   "cell_type": "markdown",
   "metadata": {},
   "source": [
    "Describe your data cleaning steps here."
   ]
  },
  {
   "cell_type": "code",
   "execution_count": 3,
   "metadata": {},
   "outputs": [],
   "source": [
    "## YOUR CODE HERE\n",
    "## FEEL FREE TO ADD MULTIPLE CELLS PER SECTION\n",
    "# Change Columns from \"key\" and \"value\" to \"HC Type\" and \"Count\"\n",
    "Bias_2010.columns = [\"hc_type\",\"count\"]\n",
    "Bias_2011.columns = [\"hc_type\",\"count\"]\n",
    "Bias_2012.columns = [\"hc_type\",\"count\"]\n",
    "Bias_2013.columns = [\"hc_type\",\"count\"]\n",
    "Bias_2014.columns = [\"hc_type\",\"count\"]\n",
    "Bias_2015.columns = [\"hc_type\",\"count\"]\n",
    "Bias_2016.columns = [\"hc_type\",\"count\"]\n",
    "Bias_2017.columns = [\"hc_type\",\"count\"]\n",
    "Bias_2018.columns = [\"hc_type\",\"count\"]\n",
    "Bias_2019.columns = [\"hc_type\",\"count\"]\n",
    "Bias_2020.columns = [\"hc_type\",\"count\"]\n",
    "IC_2010.columns = [\"quarter\",\"count\"]\n",
    "IC_2011.columns = [\"quarter\",\"count\"]\n",
    "IC_2012.columns = [\"quarter\",\"count\"]\n",
    "IC_2013.columns = [\"quarter\",\"count\"]\n",
    "IC_2014.columns = [\"quarter\",\"count\"]\n",
    "IC_2015.columns = [\"quarter\",\"count\"]\n",
    "IC_2016.columns = [\"quarter\",\"count\"]\n",
    "IC_2017.columns = [\"quarter\",\"count\"]\n",
    "IC_2018.columns = [\"quarter\",\"count\"]\n",
    "IC_2019.columns = [\"quarter\",\"count\"]\n",
    "IC_2020.columns = [\"quarter\",\"count\"] \n",
    "\n",
    "#Function for resetting index for IC data \n",
    "# Files were sorted by highest count originally, adjusted to be sorted by quarter #.\n",
    "def sort_ic_index(df_input):\n",
    "    df_input = df_input.sort_values(\"quarter\")\n",
    "    df_input = df_input.reset_index(drop=True)\n",
    "    return df_input\n",
    "\n",
    "IC_2010 = sort_ic_index(IC_2010)\n",
    "IC_2011 = sort_ic_index(IC_2011)\n",
    "IC_2012 = sort_ic_index(IC_2012)\n",
    "IC_2013 = sort_ic_index(IC_2013)\n",
    "IC_2014 = sort_ic_index(IC_2014)\n",
    "IC_2015 = sort_ic_index(IC_2015)\n",
    "IC_2016 = sort_ic_index(IC_2016)\n",
    "IC_2017 = sort_ic_index(IC_2017)\n",
    "IC_2018 = sort_ic_index(IC_2018)\n",
    "IC_2019 = sort_ic_index(IC_2019)\n",
    "IC_2020 = sort_ic_index(IC_2020)\n",
    "\n",
    "years = ['2010','2011','2012','2013','2014','2015','2016','2017','2018','2019','2020']\n",
    "quarters = ['2010_1','2010_2','2010_3','2010_4',\n",
    "            '2011_1','2011_2','2011_3','2011_4',\n",
    "            '2012_1','2012_2','2012_3','2012_4',\n",
    "            '2013_1','2013_2','2013_3','2013_4',\n",
    "            '2014_1','2014_2','2014_3','2014_4',\n",
    "            '2015_1','2015_2','2015_3','2015_4',\n",
    "            '2016_1','2016_2','2016_3','2016_4',\n",
    "            '2017_1','2017_2','2017_3','2017_4',\n",
    "            '2018_1','2018_2','2018_3','2018_4',\n",
    "            '2019_1','2019_2','2019_3','2019_4',\n",
    "            '2020_1','2020_2','2020_3','2020_4']\n",
    "\n",
    "# Get the count of the amount of hate crimes of the specified type, for each year\n",
    "def getHCCount(str_in):\n",
    "    tempList = []\n",
    "    tempList.append(Bias_2010[Bias_2010.hc_type.isin([str_in])]['count'][Bias_2010[Bias_2010.hc_type.isin([str_in])]['count'].index[0]])\n",
    "    tempList.append(Bias_2011[Bias_2011.hc_type.isin([str_in])]['count'][Bias_2011[Bias_2011.hc_type.isin([str_in])]['count'].index[0]])\n",
    "    tempList.append(Bias_2012[Bias_2012.hc_type.isin([str_in])]['count'][Bias_2012[Bias_2012.hc_type.isin([str_in])]['count'].index[0]])\n",
    "    tempList.append(Bias_2013[Bias_2013.hc_type.isin([str_in])]['count'][Bias_2013[Bias_2013.hc_type.isin([str_in])]['count'].index[0]])\n",
    "    tempList.append(Bias_2014[Bias_2014.hc_type.isin([str_in])]['count'][Bias_2014[Bias_2014.hc_type.isin([str_in])]['count'].index[0]])\n",
    "    tempList.append(Bias_2015[Bias_2015.hc_type.isin([str_in])]['count'][Bias_2015[Bias_2015.hc_type.isin([str_in])]['count'].index[0]])\n",
    "    tempList.append(Bias_2016[Bias_2016.hc_type.isin([str_in])]['count'][Bias_2016[Bias_2016.hc_type.isin([str_in])]['count'].index[0]])\n",
    "    tempList.append(Bias_2017[Bias_2017.hc_type.isin([str_in])]['count'][Bias_2017[Bias_2017.hc_type.isin([str_in])]['count'].index[0]])\n",
    "    tempList.append(Bias_2018[Bias_2018.hc_type.isin([str_in])]['count'][Bias_2018[Bias_2018.hc_type.isin([str_in])]['count'].index[0]])\n",
    "    tempList.append(Bias_2019[Bias_2019.hc_type.isin([str_in])]['count'][Bias_2019[Bias_2019.hc_type.isin([str_in])]['count'].index[0]])\n",
    "    tempList.append(Bias_2020[Bias_2020.hc_type.isin([str_in])]['count'][Bias_2020[Bias_2020.hc_type.isin([str_in])]['count'].index[0]])\n",
    "\n",
    "\n",
    "    return tempList\n",
    "\n",
    "# Create Dataframes containing the info about the top 5 most common hate crimes and their count per year.\n",
    "BiasABList = getHCCount('Anti-Black or African American')\n",
    "BiasAB = pd.DataFrame()\n",
    "BiasAB['count'] = BiasABList\n",
    "BiasAB['year'] = years\n",
    "BiasAWList = getHCCount('Anti-White')\n",
    "BiasAW = pd.DataFrame()\n",
    "BiasAW['count'] = BiasAWList\n",
    "BiasAW['year'] = years\n",
    "BiasAJList = getHCCount('Anti-Jewish')\n",
    "BiasAJ = pd.DataFrame()\n",
    "BiasAJ['count'] = BiasAJList\n",
    "BiasAJ['year'] = years\n",
    "BiasAGList = getHCCount('Anti-Gay (Male)')\n",
    "BiasAG = pd.DataFrame()\n",
    "BiasAG['count'] = BiasAGList\n",
    "BiasAG['year'] = years\n",
    "BiasAHList = getHCCount('Anti-Hispanic or Latino')\n",
    "BiasAH = pd.DataFrame()\n",
    "BiasAH['count'] = BiasAHList\n",
    "BiasAH['year'] = years\n",
    "\n",
    "ICBigDF = pd.DataFrame()\n",
    "ICBigDF['count'] = [IC_2010.iat[0,1],IC_2010.iat[1,1],IC_2010.iat[2,1],IC_2010.iat[3,1],\n",
    "                    IC_2011.iat[0,1],IC_2011.iat[1,1],IC_2011.iat[2,1],IC_2011.iat[3,1],\n",
    "                    IC_2012.iat[0,1],IC_2012.iat[1,1],IC_2012.iat[2,1],IC_2012.iat[3,1],\n",
    "                    IC_2013.iat[0,1],IC_2013.iat[1,1],IC_2013.iat[2,1],IC_2013.iat[3,1],\n",
    "                    IC_2014.iat[0,1],IC_2014.iat[1,1],IC_2014.iat[2,1],IC_2014.iat[3,1],\n",
    "                    IC_2015.iat[0,1],IC_2015.iat[1,1],IC_2015.iat[2,1],IC_2015.iat[3,1],\n",
    "                    IC_2016.iat[0,1],IC_2016.iat[1,1],IC_2016.iat[2,1],IC_2016.iat[3,1],\n",
    "                    IC_2017.iat[0,1],IC_2017.iat[1,1],IC_2017.iat[2,1],IC_2017.iat[3,1],\n",
    "                    IC_2018.iat[0,1],IC_2018.iat[1,1],IC_2018.iat[2,1],IC_2018.iat[3,1],\n",
    "                    IC_2019.iat[0,1],IC_2019.iat[1,1],IC_2019.iat[2,1],IC_2019.iat[3,1],\n",
    "                    IC_2020.iat[0,1],IC_2020.iat[1,1],IC_2020.iat[2,1],IC_2020.iat[3,1]]\n",
    "ICBigDF['quarters'] = quarters\n",
    "\n",
    "#Cleaning Article information\n",
    "News2010 = pd.DataFrame()\n",
    "News2010['Title'] = dfs2010['title']  \n",
    "News2010['Description'] = dfs2010['description']\n",
    "News2010['Year'] = dfs2010['published_at']\n",
    "\n",
    "News2011 = pd.DataFrame()\n",
    "News2011['Title'] = dfs2011['title']  \n",
    "News2011['Description'] = dfs2011['description']\n",
    "News2011['Year'] = dfs2011['published_at']\n",
    "\n",
    "News2012 = pd.DataFrame()\n",
    "News2012['Title'] = dfs2012['title']  \n",
    "News2012['Description'] = dfs2012['description']\n",
    "News2012['Year'] = dfs2012['published_at']\n",
    "\n",
    "News2013 = pd.DataFrame()\n",
    "News2013['Title'] = dfs2013['title']  \n",
    "News2013['Description'] = dfs2013['description']\n",
    "News2013['Year'] = dfs2013['published_at']\n",
    "\n",
    "News2014 = pd.DataFrame()\n",
    "News2014['Title'] = dfs2014['title']  \n",
    "News2014['Description'] = dfs2014['description']\n",
    "News2014['Year'] = dfs2014['published_at']\n",
    "\n",
    "News2015 = pd.DataFrame()\n",
    "News2015['Title'] = dfs2015['title']  \n",
    "News2015['Description'] = dfs2015['description']\n",
    "News2015['Year'] = dfs2015['published_at']\n",
    "\n",
    "News2016 = pd.DataFrame()\n",
    "News2016['Title'] = dfs2016['title']  \n",
    "News2016['Description'] = dfs2016['description']\n",
    "News2016['Year'] = dfs2016['published_at']\n",
    "\n",
    "News2017 = pd.DataFrame()\n",
    "News2017['Title'] = dfs2017['title']  \n",
    "News2017['Description'] = dfs2017['description']\n",
    "News2017['Year'] = dfs2017['published_at']\n",
    "\n",
    "News2018 = pd.DataFrame()\n",
    "News2018['Title'] = dfs2018['title']  \n",
    "News2018['Description'] = dfs2018['description']\n",
    "News2018['Year'] = dfs2018['published_at']\n",
    "\n",
    "News2019 = pd.DataFrame()\n",
    "News2019['Title'] = dfs2019['title']  \n",
    "News2019['Description'] = dfs2019['description']\n",
    "News2019['Year'] = dfs2019['published_at']\n",
    "\n",
    "News2020 = pd.DataFrame()\n",
    "News2020['Title'] = dfs2020['title']  \n",
    "News2020['Description'] = dfs2020['description']\n",
    "News2020['Year'] = dfs2020['published_at']"
   ]
  },
  {
   "cell_type": "code",
   "execution_count": 176,
   "metadata": {},
   "outputs": [
    {
     "data": {
      "text/html": [
       "<div>\n",
       "<style scoped>\n",
       "    .dataframe tbody tr th:only-of-type {\n",
       "        vertical-align: middle;\n",
       "    }\n",
       "\n",
       "    .dataframe tbody tr th {\n",
       "        vertical-align: top;\n",
       "    }\n",
       "\n",
       "    .dataframe thead th {\n",
       "        text-align: right;\n",
       "    }\n",
       "</style>\n",
       "<table border=\"1\" class=\"dataframe\">\n",
       "  <thead>\n",
       "    <tr style=\"text-align: right;\">\n",
       "      <th></th>\n",
       "      <th>Title</th>\n",
       "      <th>Description</th>\n",
       "      <th>Year</th>\n",
       "    </tr>\n",
       "  </thead>\n",
       "  <tbody>\n",
       "    <tr>\n",
       "      <th>0</th>\n",
       "      <td>Britain Seizez Russian Superyacht</td>\n",
       "      <td>The British authorities have joined those nati...</td>\n",
       "      <td>2022-03-29T19:52:54+00:00</td>\n",
       "    </tr>\n",
       "    <tr>\n",
       "      <th>1</th>\n",
       "      <td>Senators ask the Treasury and S.E.C. to close ...</td>\n",
       "      <td>Senators Elizabeth Warren and Sheldon Whitehou...</td>\n",
       "      <td>2022-03-30T14:00:09+00:00</td>\n",
       "    </tr>\n",
       "    <tr>\n",
       "      <th>2</th>\n",
       "      <td>9 Who Blocked Abortion Clinic Are Charged With...</td>\n",
       "      <td>Prosecutors said the defendants had used their...</td>\n",
       "      <td>2022-03-31T01:36:31+00:00</td>\n",
       "    </tr>\n",
       "    <tr>\n",
       "      <th>3</th>\n",
       "      <td>Putin’s Approval Ratings Soar Amid Russia’s Wa...</td>\n",
       "      <td>Eighty-three percent of Russians said they app...</td>\n",
       "      <td>2022-03-31T12:17:34+00:00</td>\n",
       "    </tr>\n",
       "    <tr>\n",
       "      <th>4</th>\n",
       "      <td>This Is What Happens When Globalization Breaks...</td>\n",
       "      <td>The story of one shipping container from a fac...</td>\n",
       "      <td>2022-03-31T17:27:10+00:00</td>\n",
       "    </tr>\n",
       "  </tbody>\n",
       "</table>\n",
       "</div>"
      ],
      "text/plain": [
       "                                               Title  \\\n",
       "0                  Britain Seizez Russian Superyacht   \n",
       "1  Senators ask the Treasury and S.E.C. to close ...   \n",
       "2  9 Who Blocked Abortion Clinic Are Charged With...   \n",
       "3  Putin’s Approval Ratings Soar Amid Russia’s Wa...   \n",
       "4  This Is What Happens When Globalization Breaks...   \n",
       "\n",
       "                                         Description  \\\n",
       "0  The British authorities have joined those nati...   \n",
       "1  Senators Elizabeth Warren and Sheldon Whitehou...   \n",
       "2  Prosecutors said the defendants had used their...   \n",
       "3  Eighty-three percent of Russians said they app...   \n",
       "4  The story of one shipping container from a fac...   \n",
       "\n",
       "                        Year  \n",
       "0  2022-03-29T19:52:54+00:00  \n",
       "1  2022-03-30T14:00:09+00:00  \n",
       "2  2022-03-31T01:36:31+00:00  \n",
       "3  2022-03-31T12:17:34+00:00  \n",
       "4  2022-03-31T17:27:10+00:00  "
      ]
     },
     "execution_count": 176,
     "metadata": {},
     "output_type": "execute_result"
    }
   ],
   "source": [
    "News2010.head()"
   ]
  },
  {
   "cell_type": "markdown",
   "metadata": {},
   "source": [
    "Above shows us an example of whats contained in these DataFrames whos data was obtained through the Mediastack API. We have article titles, description, and publication date."
   ]
  },
  {
   "cell_type": "markdown",
   "metadata": {},
   "source": [
    "# Data Analysis & Results"
   ]
  },
  {
   "cell_type": "markdown",
   "metadata": {},
   "source": [
    "Include cells that describe the steps in your data analysis."
   ]
  },
  {
   "cell_type": "code",
   "execution_count": 14,
   "metadata": {},
   "outputs": [
    {
     "data": {
      "text/plain": [
       "[Text(0.5, 0, 'Year'), Text(0, 0.5, 'Hate Crime Count')]"
      ]
     },
     "execution_count": 14,
     "metadata": {},
     "output_type": "execute_result"
    },
    {
     "data": {
      "image/png": "[encoded data removed]",
      "text/plain": [
       "<Figure size 432x288 with 1 Axes>"
      ]
     },
     "metadata": {
      "needs_background": "light"
     },
     "output_type": "display_data"
    }
   ],
   "source": [
    "sns.set(rc={'figure.figsize':(11.7,8.27)})\n",
    "B1 = sns.lineplot(x='year',y='count',data=BiasAB,label='Anti-Black')\n",
    "B2 = sns.lineplot(x='year',y='count',data=BiasAW,label='Anti-White')\n",
    "B3 = sns.lineplot(x='year',y='count',data=BiasAJ,label='Anti-Jewish')\n",
    "B4 = sns.lineplot(x='year',y='count',data=BiasAG,label='Anti-Gay')\n",
    "B5 = sns.lineplot(x='year',y='count',data=BiasAH,label='Anti-Hispanic')\n",
    "plt.legend()\n",
    "B5.set(xlabel='Year', ylabel='Hate Crime Count')"
   ]
  },
  {
   "cell_type": "markdown",
   "metadata": {},
   "source": [
    "This graph plots the top 5 most common groups that are targeted for hate crimes from the years 2010-2020. For all categories there is a noticeable downwards trend during 2013-2014, but then it picks back up and each one peaks around 2019-2020. Both Anti-Black and Anti-White increase from 2019-2020, which is around the advent of the election. Our initial impressions are that they all increase due to tensions from the 2020 election and that news articles released around this time could instigate more hate crimes, the elections being the catalysts that sparked the creation of these negative articles."
   ]
  },
  {
   "cell_type": "code",
   "execution_count": 15,
   "metadata": {},
   "outputs": [
    {
     "data": {
      "text/plain": [
       "([0,\n",
       "  1,\n",
       "  2,\n",
       "  3,\n",
       "  4,\n",
       "  5,\n",
       "  6,\n",
       "  7,\n",
       "  8,\n",
       "  9,\n",
       "  10,\n",
       "  11,\n",
       "  12,\n",
       "  13,\n",
       "  14,\n",
       "  15,\n",
       "  16,\n",
       "  17,\n",
       "  18,\n",
       "  19,\n",
       "  20,\n",
       "  21,\n",
       "  22,\n",
       "  23,\n",
       "  24,\n",
       "  25,\n",
       "  26,\n",
       "  27,\n",
       "  28,\n",
       "  29,\n",
       "  30,\n",
       "  31,\n",
       "  32,\n",
       "  33,\n",
       "  34,\n",
       "  35,\n",
       "  36,\n",
       "  37,\n",
       "  38,\n",
       "  39,\n",
       "  40,\n",
       "  41,\n",
       "  42,\n",
       "  43],\n",
       " [Text(0, 0, ''),\n",
       "  Text(0, 0, ''),\n",
       "  Text(0, 0, ''),\n",
       "  Text(0, 0, ''),\n",
       "  Text(0, 0, ''),\n",
       "  Text(0, 0, ''),\n",
       "  Text(0, 0, ''),\n",
       "  Text(0, 0, ''),\n",
       "  Text(0, 0, ''),\n",
       "  Text(0, 0, ''),\n",
       "  Text(0, 0, ''),\n",
       "  Text(0, 0, ''),\n",
       "  Text(0, 0, ''),\n",
       "  Text(0, 0, ''),\n",
       "  Text(0, 0, ''),\n",
       "  Text(0, 0, ''),\n",
       "  Text(0, 0, ''),\n",
       "  Text(0, 0, ''),\n",
       "  Text(0, 0, ''),\n",
       "  Text(0, 0, ''),\n",
       "  Text(0, 0, ''),\n",
       "  Text(0, 0, ''),\n",
       "  Text(0, 0, ''),\n",
       "  Text(0, 0, ''),\n",
       "  Text(0, 0, ''),\n",
       "  Text(0, 0, ''),\n",
       "  Text(0, 0, ''),\n",
       "  Text(0, 0, ''),\n",
       "  Text(0, 0, ''),\n",
       "  Text(0, 0, ''),\n",
       "  Text(0, 0, ''),\n",
       "  Text(0, 0, ''),\n",
       "  Text(0, 0, ''),\n",
       "  Text(0, 0, ''),\n",
       "  Text(0, 0, ''),\n",
       "  Text(0, 0, ''),\n",
       "  Text(0, 0, ''),\n",
       "  Text(0, 0, ''),\n",
       "  Text(0, 0, ''),\n",
       "  Text(0, 0, ''),\n",
       "  Text(0, 0, ''),\n",
       "  Text(0, 0, ''),\n",
       "  Text(0, 0, ''),\n",
       "  Text(0, 0, '')])"
      ]
     },
     "execution_count": 15,
     "metadata": {},
     "output_type": "execute_result"
    },
    {
     "data": {
      "image/png": "[encoded data removed]",
      "text/plain": [
       "<Figure size 1202.4x595.44 with 1 Axes>"
      ]
     },
     "metadata": {},
     "output_type": "display_data"
    }
   ],
   "source": [
    "sns.set(rc={'figure.figsize':(16.7,8.27)})\n",
    "I1 = sns.lineplot(x='quarters',y='count',data=ICBigDF)\n",
    "I1.set(xlabel='Quarter', ylabel='Hate Crime Count')\n",
    "plt.xticks(\n",
    "    rotation=45, \n",
    "    horizontalalignment='right',\n",
    "    fontweight='light',\n",
    "    fontsize=10\n",
    ")"
   ]
  },
  {
   "cell_type": "markdown",
   "metadata": {},
   "source": [
    "After grouping up all of the Incident Counts by Quarter for the years 2010-2020 we have found that although the counts tend to spike up and down, there is an overall upwards trend. From 2010-2015 there was a downwards trend on the total amount of hate crimes per quarter, and 2015 onwards they have only increased. 2016 Quarter 2 and later has a massive spike in hate crimes that hits an all time high in 2020. Our initial impressions are that these would be due to the 2016 and 2020 elections, and as mentioned above, how the news reports on these political events."
   ]
  },
  {
   "cell_type": "code",
   "execution_count": 16,
   "metadata": {},
   "outputs": [],
   "source": [
    "#This block is where we'll use VADER sentiment analysis in order to determine the negativity aspect\n",
    "vaderData1 = pd.DataFrame()\n",
    "analyzer = SentimentIntensityAnalyzer()\n",
    "for title in News2010['Title']:\n",
    "    vs = analyzer.polarity_scores(title)\n",
    "    vaderData1 = vaderData1.append(vs, ignore_index=True)\n",
    "    \n",
    "vaderData2 = pd.DataFrame()\n",
    "for title in News2011['Title']:\n",
    "    vs = analyzer.polarity_scores(title)\n",
    "    vaderData2 = vaderData2.append(vs, ignore_index=True)\n",
    "\n",
    "vaderData3 = pd.DataFrame()\n",
    "for title in News2012['Title']:\n",
    "    vs = analyzer.polarity_scores(title)\n",
    "    vaderData3 = vaderData3.append(vs, ignore_index=True)\n",
    "\n",
    "vaderData4 = pd.DataFrame()\n",
    "for title in News2013['Title']:\n",
    "    vs = analyzer.polarity_scores(title)\n",
    "    vaderData4 = vaderData4.append(vs, ignore_index=True)\n",
    "\n",
    "vaderData5 = pd.DataFrame()\n",
    "for title in News2014['Title']:\n",
    "    vs = analyzer.polarity_scores(title)\n",
    "    vaderData5 = vaderData5.append(vs, ignore_index=True)\n",
    "\n",
    "vaderData6 = pd.DataFrame()\n",
    "for title in News2015['Title']:\n",
    "    vs = analyzer.polarity_scores(title)\n",
    "    vaderData6 = vaderData6.append(vs, ignore_index=True)\n",
    "\n",
    "vaderData7 = pd.DataFrame()\n",
    "for title in News2016['Title']:\n",
    "    vs = analyzer.polarity_scores(title)\n",
    "    vaderData7 = vaderData7.append(vs, ignore_index=True)\n",
    "\n",
    "vaderData8 = pd.DataFrame()\n",
    "for title in News2017['Title']:\n",
    "    vs = analyzer.polarity_scores(title)\n",
    "    vaderData8 = vaderData8.append(vs, ignore_index=True)\n",
    "\n",
    "vaderData9 = pd.DataFrame()\n",
    "for title in News2018['Title']:\n",
    "    vs = analyzer.polarity_scores(title)\n",
    "    vaderData9 = vaderData9.append(vs, ignore_index=True)\n",
    "\n",
    "vaderData10 = pd.DataFrame()\n",
    "for title in News2019['Title']:\n",
    "    vs = analyzer.polarity_scores(title)\n",
    "    vaderData10 = vaderData10.append(vs, ignore_index=True)\n",
    "\n",
    "vaderData11 = pd.DataFrame()\n",
    "for title in News2020['Title']:\n",
    "    vs = analyzer.polarity_scores(title)\n",
    "    vaderData11 = vaderData11.append(vs, ignore_index=True)\n",
    "# vaderData1.head()"
   ]
  },
  {
   "cell_type": "code",
   "execution_count": 17,
   "metadata": {},
   "outputs": [
    {
     "data": {
      "text/html": [
       "<div>\n",
       "<style scoped>\n",
       "    .dataframe tbody tr th:only-of-type {\n",
       "        vertical-align: middle;\n",
       "    }\n",
       "\n",
       "    .dataframe tbody tr th {\n",
       "        vertical-align: top;\n",
       "    }\n",
       "\n",
       "    .dataframe thead th {\n",
       "        text-align: right;\n",
       "    }\n",
       "</style>\n",
       "<table border=\"1\" class=\"dataframe\">\n",
       "  <thead>\n",
       "    <tr style=\"text-align: right;\">\n",
       "      <th></th>\n",
       "      <th>neg</th>\n",
       "      <th>neu</th>\n",
       "      <th>pos</th>\n",
       "      <th>compound</th>\n",
       "    </tr>\n",
       "  </thead>\n",
       "  <tbody>\n",
       "    <tr>\n",
       "      <th>count</th>\n",
       "      <td>100.000000</td>\n",
       "      <td>100.000000</td>\n",
       "      <td>100.000000</td>\n",
       "      <td>100.000000</td>\n",
       "    </tr>\n",
       "    <tr>\n",
       "      <th>mean</th>\n",
       "      <td>0.136400</td>\n",
       "      <td>0.782920</td>\n",
       "      <td>0.080700</td>\n",
       "      <td>-0.103792</td>\n",
       "    </tr>\n",
       "    <tr>\n",
       "      <th>std</th>\n",
       "      <td>0.163079</td>\n",
       "      <td>0.175171</td>\n",
       "      <td>0.130255</td>\n",
       "      <td>0.386881</td>\n",
       "    </tr>\n",
       "    <tr>\n",
       "      <th>min</th>\n",
       "      <td>0.000000</td>\n",
       "      <td>0.392000</td>\n",
       "      <td>0.000000</td>\n",
       "      <td>-0.831600</td>\n",
       "    </tr>\n",
       "    <tr>\n",
       "      <th>25%</th>\n",
       "      <td>0.000000</td>\n",
       "      <td>0.658750</td>\n",
       "      <td>0.000000</td>\n",
       "      <td>-0.445000</td>\n",
       "    </tr>\n",
       "    <tr>\n",
       "      <th>50%</th>\n",
       "      <td>0.000000</td>\n",
       "      <td>0.769000</td>\n",
       "      <td>0.000000</td>\n",
       "      <td>0.000000</td>\n",
       "    </tr>\n",
       "    <tr>\n",
       "      <th>75%</th>\n",
       "      <td>0.275250</td>\n",
       "      <td>1.000000</td>\n",
       "      <td>0.164000</td>\n",
       "      <td>0.019300</td>\n",
       "    </tr>\n",
       "    <tr>\n",
       "      <th>max</th>\n",
       "      <td>0.507000</td>\n",
       "      <td>1.000000</td>\n",
       "      <td>0.608000</td>\n",
       "      <td>0.715200</td>\n",
       "    </tr>\n",
       "  </tbody>\n",
       "</table>\n",
       "</div>"
      ],
      "text/plain": [
       "              neg         neu         pos    compound\n",
       "count  100.000000  100.000000  100.000000  100.000000\n",
       "mean     0.136400    0.782920    0.080700   -0.103792\n",
       "std      0.163079    0.175171    0.130255    0.386881\n",
       "min      0.000000    0.392000    0.000000   -0.831600\n",
       "25%      0.000000    0.658750    0.000000   -0.445000\n",
       "50%      0.000000    0.769000    0.000000    0.000000\n",
       "75%      0.275250    1.000000    0.164000    0.019300\n",
       "max      0.507000    1.000000    0.608000    0.715200"
      ]
     },
     "execution_count": 17,
     "metadata": {},
     "output_type": "execute_result"
    }
   ],
   "source": [
    "vaderData1.describe()"
   ]
  },
  {
   "cell_type": "markdown",
   "metadata": {},
   "source": [
    "Above we see an example of what is contained in the results of running Vader Sentiment Analysis, which has neg, neu, pos, and compound. "
   ]
  },
  {
   "cell_type": "code",
   "execution_count": 26,
   "metadata": {},
   "outputs": [
    {
     "data": {
      "text/plain": [
       "<AxesSubplot:xlabel='avgpos', ylabel='Count'>"
      ]
     },
     "execution_count": 26,
     "metadata": {},
     "output_type": "execute_result"
    },
    {
     "data": {
      "image/png": "[encoded data removed]",
      "text/plain": [
       "<Figure size 1202.4x595.44 with 2 Axes>"
      ]
     },
     "metadata": {},
     "output_type": "display_data"
    }
   ],
   "source": [
    "def getNegAvg(vade):\n",
    "    negSum = vade['neg'].sum()\n",
    "    negCount = vade.shape[0]\n",
    "    return negSum/negCount;\n",
    "def getPosAvg(vade):\n",
    "    posSum = vade['pos'].sum()\n",
    "    posCount = vade.shape[0]\n",
    "    return posSum/posCount;\n",
    "def getCompAvg(vade):\n",
    "    compSum = vade['compound'].sum()\n",
    "    compCount = vade.shape[0]\n",
    "    return compSum/compCount;\n",
    "\n",
    "bigVaderDF = pd.DataFrame();\n",
    "bigVaderDF['avgneg'] = [getNegAvg(vaderData1),getNegAvg(vaderData2),getNegAvg(vaderData3),getNegAvg(vaderData4),getNegAvg(vaderData5),getNegAvg(vaderData6),getNegAvg(vaderData7),getNegAvg(vaderData8),getNegAvg(vaderData9),getNegAvg(vaderData10),getNegAvg(vaderData11)]\n",
    "bigVaderDF['avgpos'] = [getPosAvg(vaderData1),getPosAvg(vaderData2),getPosAvg(vaderData3),getPosAvg(vaderData4),getPosAvg(vaderData5),getPosAvg(vaderData6),getPosAvg(vaderData7),getPosAvg(vaderData8),getPosAvg(vaderData9),getPosAvg(vaderData10),getPosAvg(vaderData11)]\n",
    "bigVaderDF['avgcomp'] = [getCompAvg(vaderData1),getCompAvg(vaderData2),getCompAvg(vaderData3),getCompAvg(vaderData4),getCompAvg(vaderData5),getCompAvg(vaderData6),getCompAvg(vaderData7),getCompAvg(vaderData8),getCompAvg(vaderData9),getCompAvg(vaderData10),getCompAvg(vaderData11)]\n",
    "\n",
    "bigVaderDF.head()\n",
    "\n",
    "# outcomes_1, predictors_1 = patsy.dmatrices('overall ~ nationality',df_articles_HC)\n",
    "# model = sm.OLS(outcome,predictors)\n",
    "# res_1 = model.fit()\n",
    "# print(res_1.summary())\n",
    "\n",
    "graph, (ax1, ax2) = plt.subplots(ncols=2,sharey=True)\n",
    "\n",
    "sns.histplot(bigVaderDF[\"avgneg\"], ax = ax1, kde = False, bins = 30)\n",
    "\n",
    "sns.histplot(bigVaderDF[\"avgpos\"], ax = ax2, kde = False, bins = 30)\n",
    "\n",
    "\n",
    "\n",
    "# we will use the above code once we have a dataset of vader sentiment analyzed articles mixed with hate crime stats, to compare them\n",
    "# aka, as the amount of articles with negative sentiment go up, does the amount of hate crimes increase?"
   ]
  },
  {
   "cell_type": "markdown",
   "metadata": {},
   "source": [
    "Vader Sentiment Analysis analyzes how positive, negative, and neutral the words are in text. Running the analysis once will result in 3 measurements: pos (Positive), neg (Negative), and neu (Neutral). For each of the 10 datasets we had that contains 100 news articles each, we found the average of the Negative (avgneg) and Positive (avgpos) measurements resulting from running Vader on each article individually. These are graphed above. The results show that things get far more negative than they do positive, with a maximum negative rating of 0.16+ compared to a maximum positive rating of 0.095+. Additionally, the majority of the average negatives are more negative (above the 0.10 threshold) than all of the positives, since the highest average positive only reaches around 0.095. The downside to this analysis is that it is not fully representative of the time period we are attempting to analyze, due to the mediastack API malfunctioning. The articles we have analyzed above are from 2022. The fact that articles from 2022 are far more negative than they are positive and the fact that the trends we showed in the Hate Crime graphs showed massive increases in Hate Crimes in recent years is a positive correlation. i.e. Both of the 2 separate datasets that have been analyzed thus far have shown that negativity is very high for the types of rhetoric used in articles and the amount of Hate Crimes is on an upward trend. This does not necessarily prove that one being very high in negativity/hate crime causes the other to be high in negativity/hate crime, but both happen to be high in the same time period. "
   ]
  },
  {
   "cell_type": "markdown",
   "metadata": {},
   "source": [
    "# Ethics & Privacy"
   ]
  },
  {
   "cell_type": "markdown",
   "metadata": {},
   "source": [
    "We believe that there are no privacy concerns regarding our dataset. The data pulled for the hate crime statistics is available online on the FBI's website, and as for the articles, they do include the name of the authors, but we removed them from our statistics as we don't need them. \n",
    "\n",
    "Yet, one concern that we recognized could be articles that have a paywall that the API we are using may be able to bypass and let us use as data. This is a problem since then someone could read that article(s) or at least part of the content for free. Another more important issue will be how people react to seeing the statistics of the many aggressive articles or the amount of articles that exaggerate issues. People could start to hold negative views towards all of the news sources we gathered the articles from, or start to agree with said hate crimes or extremism. Additionally, by holding these personal types of negative views, it is possible that news source do not accurately report the hate crimes as reported by the victims. Therefore, this increases the potential for bias.* \n"
   ]
  },
  {
   "cell_type": "markdown",
   "metadata": {},
   "source": [
    "# Conclusion & Discussion"
   ]
  },
  {
   "cell_type": "markdown",
   "metadata": {},
   "source": [
    "Hate Crimes in the US were steady until about 2016 where they have been increasing ever since. Most would immediately think of the 2016 and 2020 Elections being the primary cause of this increase, and those people would be right, but there are many smaller factors within the umbrella of the Elections that contribute to this. The News articles released around 2022 have shown to be far more negative (0.16) than they are positive (0.095). This information combined with the fact that 2016 onwards had an increasing amount of Hate Crimes leads us to believe that news articles did have an impact on Hate Crimes, that the massive negativity that news has nowadays did increase the amount and/or the rate at which they are committed. The Data and Analysis we have done above is not conclusive evidence that the negativity of news articles affects the amount/rate of hate crimes, since we would need to analyze data from the same time period as the FBI Statistics, but we can draw conclusions from what little news data we had to work with. We originally planned to use news data from 2010-2020, the same time period the FBI Hate Crime statistics are from, but we had issues using the Mediastack API. \n",
    "\n",
    "During the EDA step we were not as thorough as we needed to be while playing around with our chosen API. Mediastack has several issues and its documentation often contradicts itself. There is seemingly no support for the API but it has a fully operational front/website as well as paid options that lead us to believe it was legitamite. We cornered ourselves into a weird spot due to our failing in thoroughly testing it out, this could be a good lesson for future groups. Please check your APIs Github thoroughly for current and or old issues. We've tried contacting the creators of the API, but unfortunately they wouldn't respond. We believe the developers have left the barebones functionality up for the API which is what hindered us from creating more accurate analysis. Apologies."
   ]
  },
  {
   "cell_type": "markdown",
   "metadata": {},
   "source": [
    "# Team Contributions"
   ]
  },
  {
   "cell_type": "markdown",
   "metadata": {},
   "source": [
    "- Scott Andrews -> Mediastack News API (Worst API I have ever used); retrieved news articles from several outlets and helped create the news media data frames. \n",
    "- Steven Youssef -> VADER Sentiment importing and cleaning and working with Mediastack API, Research Question.\n",
    "- Connor Moore -> FBI Statistics Data cleaning, Analysis, and Graphs. Vader Sentiment Analysis and Graphs. Portion of the Conclusion, Datasets, Hypothesis\n",
    "- Sung Cho ->  Ethics & Privacy, API researching, and background research\n",
    "- Edgar Diaz -> Topic researching an and API researching"
   ]
  }
 ],
 "metadata": {
  "interpreter": {
   "hash": "d86737a50a0e1b9a3c01e5ad2c51e66509df7b6f9045b5a6565ccd54e3ab89ce"
  },
  "kernelspec": {
   "display_name": "Python 3.9.13 64-bit (windows store)",
   "language": "python",
   "name": "python3"
  },
  "language_info": {
   "codemirror_mode": {
    "name": "ipython",
    "version": 3
   },
   "file_extension": ".py",
   "mimetype": "text/x-python",
   "name": "python",
   "nbconvert_exporter": "python",
   "pygments_lexer": "ipython3",
   "version": "3.9.13"
  },
  "vscode": {
   "interpreter": {
    "hash": "aee8b7b246df8f9039afb4144a1f6fd8d2ca17a180786b69acc140d282b71a49"
   }
  }
 },
 "nbformat": 4,
 "nbformat_minor": 2
}
